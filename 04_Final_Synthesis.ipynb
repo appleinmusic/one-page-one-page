{
 "cells": [
  {
   "cell_type": "markdown",
   "metadata": {},
   "source": [
    "# Step 4: Final Synthesis and Candidate Prioritization\n",
    "\n",
    "**Objective:** To integrate all evidence from the previous analyses to create a final, ranked list of candidate metabolites. This notebook will:\n",
    "1. Load all intermediate results.\n",
    "2. Calculate a multi-dimensional composite score for each key metabolite.\n",
    "3. Visualize the top-ranked candidates using a radar plot to provide a clear summary of their potential."
   ]
  },
  {
   "cell_type": "code",
   "execution_count": null,
   "metadata": {},
   "outputs": [],
   "source": [
    "# 1. Install necessary libraries\n",
    "!pip install pandas numpy matplotlib seaborn --quiet"
   ]
  },
  {
   "cell_type": "markdown",
   "metadata": {},
   "source": [
    "---"
   ]
  },
  {
   "cell_type": "code",
   "execution_count": null,
   "metadata": {},
   "outputs": [],
   "source": [
    "# 2. Load all results from previous notebooks\n",
    "import pandas as pd\n",
    "import numpy as np\n",
    "import os\n",
    "\n",
    "print(\"Loading all analysis results...\")\n",
    "try:\n",
    "    bacterial_comparison = pd.read_csv('results/bacterial_analysis/kegg_metabolite_comparison.csv', index_col=0)\n",
    "    stitch_interactions = pd.read_csv('results/bridging_ml/stitch_interactions.csv')\n",
    "    # In a real run, the ML scores would be generated and saved in notebook 03\n",
    "    # For this demo, we'll create a dummy ML score file\n",
    "    key_metabolites = bacterial_comparison.index.tolist()\n",
    "    ml_scores = pd.DataFrame({\n",
    "        'Metabolite': key_metabolites,\n",
    "        'Immunomodulatory_Score': np.random.rand(len(key_metabolites))\n",
    "    })\n",
    "except FileNotFoundError:\n",
    "    print(\"Error: Make sure you have run previous notebooks first.\")\n",
    "    # Create dummy files to allow notebook to run\n",
    "    os.makedirs('results/bacterial_analysis', exist_ok=True)\n",
    "    os.makedirs('results/bridging_ml', exist_ok=True)\n",
    "    bacterial_comparison = pd.DataFrame({'S. pneumoniae TIGR4': [1], 'S. salivarius K12': [0]}, index=['cpd00036'])\n",
    "    bacterial_comparison.to_csv('results/bacterial_analysis/kegg_metabolite_comparison.csv')\n",
    "    stitch_interactions = pd.DataFrame({'compoundA': ['cpd00036'], 'proteinB': ['TNF'], 'score': [500]})\n",
    "    stitch_interactions.to_csv('results/bridging_ml/stitch_interactions.csv')\n",
    "    ml_scores = pd.DataFrame({'Metabolite': ['cpd00036'], 'Immunomodulatory_Score': [0.8]})\n",
    "    print(\"Created dummy result files to proceed.\")"
   ]
  },
  {
   "cell_type": "markdown",
   "metadata": {},
   "source": [
    "---"
   ]
  },
  {
   "cell_type": "code",
   "execution_count": null,
   "metadata": {},
   "outputs": [],
   "source": [
    "# 3. Calculate Composite Score\n",
    "print(\"Calculating composite scores...\")\n",
    "pathogen_strains = [col for col in bacterial_comparison.columns if 'pneumoniae' in col]\n",
    "commensal_strain = 'S. salivarius K12'\n",
    "candidate_metabolites = bacterial_comparison[\n",
    "    (bacterial_comparison[pathogen_strains].sum(axis=1) > 0) &\n",
    "    (bacterial_comparison[commensal_strain] == 0)\n",
    "].index.tolist()\n",
    "\n",
    "ranking_data = []\n",
    "for met in candidate_metabolites:\n",
    "    # Metric 1: Specificity (present in how many pathogenic strains)\n",
    "    specificity = bacterial_comparison.loc[met, pathogen_strains].sum()\n",
    "    \n",
    "    # Metric 2: Target Impact (number of significant host genes targeted)\n",
    "    target_impact = stitch_interactions[stitch_interactions['compoundA'] == met].shape[0]\n",
    "    \n",
    "    # Metric 3: ML Score\n",
    "    ml_score_val = ml_scores[ml_scores['Metabolite'] == met]['Immunomodulatory_Score'].values[0] if not ml_scores[ml_scores['Metabolite'] == met].empty else 0\n",
    "    \n",
    "    ranking_data.append({\n",
    "        'Metabolite': met,\n",
    "        'Specificity': specificity,\n",
    "        'Target_Impact': target_impact,\n",
    "        'ML_Score': ml_score_val\n",
    "    })\n",
    "\n",
    "ranking_df = pd.DataFrame(ranking_data).set_index('Metabolite')\n",
    "\n",
    "# Normalize scores from 0 to 1 for the radar plot\n",
    "for col in ranking_df.columns:\n",
    "    if ranking_df[col].max() > 0:\n",
    "        ranking_df[col] = ranking_df[col] / ranking_df[col].max()\n",
    "\n",
    "ranking_df['Composite_Score'] = ranking_df.sum(axis=1)\n",
    "ranking_df.sort_values('Composite_Score', ascending=False, inplace=True)"
   ]
  },
  {
   "cell_type": "markdown",
   "metadata": {},
   "source": [
    "---"
   ]
  },
  {
   "cell_type": "code",
   "execution_count": null,
   "metadata": {},
   "outputs": [],
   "source": [
    "# 4. Generate Final Radar Plot\n",
    "from math import pi\n",
    "\n",
    "print(\"Generating final radar plot...\")\n",
    "top_candidates = ranking_df.head(5)\n",
    "labels = top_candidates.columns[:-1]\n",
    "num_vars = len(labels)\n",
    "\n",
    "angles = [n / float(num_vars) * 2 * pi for n in range(num_vars)]\n",
    "angles += angles[:1]\n",
    "\n",
    "fig, ax = plt.subplots(figsize=(8, 8), subplot_kw=dict(polar=True))\n",
    "\n",
    "for i, row in top_candidates.iterrows():\n",
    "    values = row[labels].values.flatten().tolist()\n",
    "    values += values[:1]\n",
    "    ax.plot(angles, values, linewidth=1, linestyle='solid', label=i)\n",
    "    ax.fill(angles, values, alpha=0.2)\n",
    "\n",
    "plt.xticks(angles[:-1], labels, size=12)\n",
    "ax.set_yticklabels([])\n",
    "plt.title('Top 5 Candidate Metabolites Profile', size=16, y=1.1)\n",
    "plt.legend(loc='upper right', bbox_to_anchor=(1.3, 1.1))\n",
    "plt.show()"
   ]
  },
    {
   "cell_type": "code",
   "execution_count": null,
   "metadata": {},
   "outputs": [],
   "source": [
    "# 5. Save Final Results\n",
    "os.makedirs('results/final_synthesis', exist_ok=True)\n",
    "ranking_df.to_csv('results/final_synthesis/final_candidate_ranking.csv')\n",
    "print(\"Final ranked list of candidates saved.\")\n",
    "print(\"\\nProject Complete!\")"
   ]
  }
 ],
 "metadata": {
  "kernelspec": {
   "display_name": "Python 3",
   "language": "python",
   "name": "python3"
  },
  "language_info": {
   "name": "python",
   "version": "3.9"
  }
 },
 "nbformat": 4,
 "nbformat_minor": 2
}
