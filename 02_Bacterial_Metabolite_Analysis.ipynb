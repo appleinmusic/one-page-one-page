{
 "cells": [
  {
   "cell_type": "markdown",
   "metadata": {},
   "source": [
    "# Step 2: Bacterial Metabolite Analysis via KEGG API\n",
    "\n",
    "**Objective:** To identify and compare the metabolic potential of several *Streptococcus* strains by querying the KEGG (Kyoto Encyclopedia of Genes and Genomes) database. This notebook will:\n",
    "1. Install required libraries.\n",
    "2. Use the KEGG REST API to download metabolite lists for selected pathogenic and commensal strains.\n",
    "3. Process and compare these lists.\n",
    "4. Visualize the core and accessory metabolome using an Upset plot."
   ]
  },
  {
   "cell_type": "code",
   "execution_count": null,
   "metadata": {},
   "outputs": [],
   "source": [
    "# 1. Install necessary libraries\n",
    "!pip install requests pandas upsetplot matplotlib --quiet"
   ]
  },
  {
   "cell_type": "markdown",
   "metadata": {},
   "source": [
    "---"
   ]
  },
  {
   "cell_type": "code",
   "execution_count": null,
   "metadata": {},
   "outputs": [],
   "source": [
    "# 2. Define KEGG API functions and organism codes\n",
    "import requests\n",
    "import pandas as pd\n",
    "from io import StringIO\n",
    "import time\n",
    "from collections import defaultdict\n",
    "\n",
    "KEGG_ORGANISMS = {\n",
    "    'S. pneumoniae TIGR4': 'spn',\n",
    "    'S. pneumoniae R6': 'spr',\n",
    "    'S. pneumoniae D39': 'spd',\n",
    "    'S. salivarius K12': 'ssa' # Commensal control\n",
    "}\n",
    "\n",
    "BASE_URL = \"http://rest.kegg.jp\"\n",
    "\n",
    "def get_pathways_for_organism(org_code):\n",
    "    \"\"\"Gets a list of all pathways for a given KEGG organism code.\"\"\"\n",
    "    url = f\"{BASE_URL}/list/pathway/{org_code}\"\n",
    "    try:\n",
    "        response = requests.get(url)\n",
    "        response.raise_for_status() # Raise an exception for bad status codes\n",
    "        pathways = [line.split('\\t')[0] for line in response.text.strip().split('\\n')]\n",
    "        return pathways\n",
    "    except requests.exceptions.RequestException as e:\n",
    "        print(f\"Error fetching pathways for {org_code}: {e}\")\n",
    "        return []\n",
    "\n",
    "def get_compounds_for_pathway(pathway_id):\n",
    "    \"\"\"Gets a list of all compounds (metabolites) in a given KEGG pathway.\"\"\"\n",
    "    url = f\"{BASE_URL}/link/cpd/{pathway_id}\"\n",
    "    try:\n",
    "        response = requests.get(url)\n",
    "        response.raise_for_status()\n",
    "        if not response.text:\n",
    "            return []\n",
    "        compounds = [line.split('\\t')[1] for line in response.text.strip().split('\\n')]\n",
    "        return compounds\n",
    "    except requests.exceptions.RequestException as e:\n",
    "        print(f\"Error fetching compounds for {pathway_id}: {e}\")\n",
    "        return []\n",
    "\n",
    "print(\"KEGG API functions defined.\")"
   ]
  },
  {
   "cell_type": "code",
   "execution_count": null,
   "metadata": {},
   "outputs": [],
   "source": [
    "# 3. Fetch all metabolite data from KEGG\n",
    "print(\"Fetching data from KEGG for all organisms. This will take several minutes...\")\n",
    "organism_metabolites = defaultdict(set)\n",
    "\n",
    "for name, code in KEGG_ORGANISMS.items():\n",
    "    print(f\"\\nProcessing {name} ({code})...\")\n",
    "    pathways = get_pathways_for_organism(code)\n",
    "    print(f\"Found {len(pathways)} pathways.\")\n",
    "    \n",
    "    for i, pathway in enumerate(pathways):\n",
    "        # Be respectful to the API server\n",
    "        time.sleep(0.1)\n",
    "        if (i+1) % 20 == 0:\n",
    "            print(f\"  - Fetched compounds for {i+1}/{len(pathways)} pathways...\")\n",
    "        compounds = get_compounds_for_pathway(pathway)\n",
    "        organism_metabolites[name].update(compounds)\n",
    "    \n",
    "    print(f\"Finished {name}. Total unique metabolites found: {len(organism_metabolites[name])}\")\n",
    "\n",
    "print(\"\\nAll data fetched successfully!\")"
   ]
  },
  {
   "cell_type": "markdown",
   "metadata": {},
   "source": [
    "---"
   ]
  },
  {
   "cell_type": "code",
   "execution_count": null,
   "metadata": {},
   "outputs": [],
   "source": [
    "# 4. Compare metabolomes with an Upset Plot\n",
    "from upsetplot import from_contents, UpSet\n",
    "import matplotlib.pyplot as plt\n",
    "\n",
    "print(\"Generating Upset plot for comparative analysis...\")\n",
    "\n",
    "# Convert dictionary of sets to the format required by upsetplot\n",
    "upset_data = from_contents(organism_metabolites)\n",
    "\n",
    "plt.figure(figsize=(15, 8))\n",
    "upset_plot = UpSet(upset_data, subset_size='count', show_counts=True, sort_by='degree')\n",
    "upset_plot.plot()\n",
    "plt.suptitle(\"Comparison of Metabolite Sets Across Streptococcus Strains\")\n",
    "plt.show()"
   ]
  },
  {
   "cell_type": "markdown",
   "metadata": {},
   "source": [
    "---"
   ]
  },
  {
   "cell_type": "code",
   "execution_count": null,
   "metadata": {},
   "outputs": [],
   "source": [
    "# 5. Save the results\n",
    "import os\n",
    "\n",
    "os.makedirs('results/bacterial_analysis', exist_ok=True)\n",
    "\n",
    "# Create a presence/absence dataframe\n",
    "all_compounds = sorted(list(set.union(*organism_metabolites.values())))\n",
    "presence_absence_df = pd.DataFrame(0, index=all_compounds, columns=KEGG_ORGANISMS.keys())\n",
    "\n",
    "for org, compounds in organism_metabolites.items():\n",
    "    presence_absence_df.loc[list(compounds), org] = 1\n",
    "\n",
    "output_file = 'results/bacterial_analysis/kegg_metabolite_comparison.csv'\n",
    "presence_absence_df.to_csv(output_file)\n",
    "\n",
    "print(f\"Comparison table saved to {output_file}\")\n",
    "print(\"\\nBacterial metabolite analysis complete.\")"
   ]
  }
 ],
 "metadata": {
  "kernelspec": {
   "display_name": "Python 3",
   "language": "python",
   "name": "python3"
  },
  "language_info": {
   "name": "python",
   "version": "3.9"
  }
 },
 "nbformat": 4,
 "nbformat_minor": 2
}
